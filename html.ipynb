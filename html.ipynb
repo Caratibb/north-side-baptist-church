{
 "cells": [
  {
   "cell_type": "code",
   "execution_count": null,
   "metadata": {},
   "outputs": [],
   "source": [
    "<!DOCTYPE html>\n",
    "<html lang=\"en\">\n",
    "<head>\n",
    "    <meta charset=\"UTF-8\">\n",
    "    <meta name=\"viewport\" content=\"width=device-width, initial-scale=1.0\">\n",
    "    <title>Church Name</title>\n",
    "    <link rel=\"stylesheet\" href=\"styles.css\">\n",
    "</head>\n",
    "<body>\n",
    "    <header>\n",
    "        <h1>Welcome to Our Church</h1>\n",
    "        <nav>\n",
    "            <ul>\n",
    "                <li><a href=\"#\">Home</a></li>\n",
    "                <li><a href=\"#\">Sermons</a></li>\n",
    "                <li><a href=\"#\">Events</a></li>\n",
    "                <li><a href=\"#\">Donate</a></li>\n",
    "                <li><a href=\"#\">Contact</a></li>\n",
    "            </ul>\n",
    "        </nav>\n",
    "    </header>\n",
    "    <section class=\"hero\">\n",
    "        <h2>Join us for worship every Sunday!</h2>\n",
    "        <button>Plan Your Visit</button>\n",
    "    </section>\n",
    "    <footer>\n",
    "        <p> North Side Baptist Church. All rights reserved.</p>\n",
    "    </footer>\n",
    "</body>\n",
    "</html>"
   ]
  }
 ],
 "metadata": {
  "kernelspec": {
   "display_name": "Python 3 (ipykernel)",
   "language": "python",
   "name": "python3"
  },
  "language_info": {
   "codemirror_mode": {
    "name": "ipython",
    "version": 3
   },
   "file_extension": ".py",
   "mimetype": "text/x-python",
   "name": "python",
   "nbconvert_exporter": "python",
   "pygments_lexer": "ipython3",
   "version": "3.12.1"
  }
 },
 "nbformat": 4,
 "nbformat_minor": 2
}
